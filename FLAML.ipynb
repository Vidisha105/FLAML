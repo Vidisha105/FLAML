{
 "cells": [
  {
   "cell_type": "markdown",
   "id": "5a457cde",
   "metadata": {},
   "source": [
    "## Importing Library"
   ]
  },
  {
   "cell_type": "code",
   "execution_count": 1,
   "id": "3fe922d6",
   "metadata": {},
   "outputs": [
    {
     "name": "stdout",
     "output_type": "stream",
     "text": [
      "Collecting flaml\n",
      "  Downloading FLAML-1.0.13-py3-none-any.whl (205 kB)\n",
      "Collecting lightgbm>=2.3.1\n",
      "  Downloading lightgbm-3.3.3-py3-none-win_amd64.whl (1.0 MB)\n",
      "Requirement already satisfied: xgboost>=0.90 in c:\\users\\vidis\\anaconda3\\lib\\site-packages (from flaml) (1.5.2)\n",
      "Requirement already satisfied: scipy>=1.4.1 in c:\\users\\vidis\\anaconda3\\lib\\site-packages (from flaml) (1.7.1)\n",
      "Requirement already satisfied: scikit-learn>=0.24 in c:\\users\\vidis\\anaconda3\\lib\\site-packages (from flaml) (1.0.2)\n",
      "Requirement already satisfied: pandas>=1.1.4 in c:\\users\\vidis\\anaconda3\\lib\\site-packages (from flaml) (1.3.4)\n",
      "Requirement already satisfied: NumPy>=1.17.0rc1 in c:\\users\\vidis\\anaconda3\\lib\\site-packages (from flaml) (1.20.3)\n",
      "Requirement already satisfied: wheel in c:\\users\\vidis\\anaconda3\\lib\\site-packages (from lightgbm>=2.3.1->flaml) (0.37.0)\n",
      "Requirement already satisfied: python-dateutil>=2.7.3 in c:\\users\\vidis\\anaconda3\\lib\\site-packages (from pandas>=1.1.4->flaml) (2.8.2)\n",
      "Requirement already satisfied: pytz>=2017.3 in c:\\users\\vidis\\anaconda3\\lib\\site-packages (from pandas>=1.1.4->flaml) (2021.3)\n",
      "Requirement already satisfied: six>=1.5 in c:\\users\\vidis\\anaconda3\\lib\\site-packages (from python-dateutil>=2.7.3->pandas>=1.1.4->flaml) (1.16.0)\n",
      "Requirement already satisfied: joblib>=0.11 in c:\\users\\vidis\\anaconda3\\lib\\site-packages (from scikit-learn>=0.24->flaml) (1.1.0)\n",
      "Requirement already satisfied: threadpoolctl>=2.0.0 in c:\\users\\vidis\\anaconda3\\lib\\site-packages (from scikit-learn>=0.24->flaml) (2.2.0)\n",
      "Installing collected packages: lightgbm, flaml\n",
      "Successfully installed flaml-1.0.13 lightgbm-3.3.3\n",
      "Collecting pmlb\n",
      "  Downloading pmlb-1.0.1.post3-py3-none-any.whl (19 kB)\n",
      "Requirement already satisfied: requests>=2.24.0 in c:\\users\\vidis\\anaconda3\\lib\\site-packages (from pmlb) (2.26.0)\n",
      "Requirement already satisfied: pandas>=1.0.5 in c:\\users\\vidis\\anaconda3\\lib\\site-packages (from pmlb) (1.3.4)\n",
      "Requirement already satisfied: pyyaml>=5.3.1 in c:\\users\\vidis\\anaconda3\\lib\\site-packages (from pmlb) (6.0)\n",
      "Requirement already satisfied: numpy>=1.17.3 in c:\\users\\vidis\\anaconda3\\lib\\site-packages (from pandas>=1.0.5->pmlb) (1.20.3)\n",
      "Requirement already satisfied: pytz>=2017.3 in c:\\users\\vidis\\anaconda3\\lib\\site-packages (from pandas>=1.0.5->pmlb) (2021.3)\n",
      "Requirement already satisfied: python-dateutil>=2.7.3 in c:\\users\\vidis\\anaconda3\\lib\\site-packages (from pandas>=1.0.5->pmlb) (2.8.2)\n",
      "Requirement already satisfied: six>=1.5 in c:\\users\\vidis\\anaconda3\\lib\\site-packages (from python-dateutil>=2.7.3->pandas>=1.0.5->pmlb) (1.16.0)\n",
      "Requirement already satisfied: urllib3<1.27,>=1.21.1 in c:\\users\\vidis\\anaconda3\\lib\\site-packages (from requests>=2.24.0->pmlb) (1.26.7)\n",
      "Requirement already satisfied: certifi>=2017.4.17 in c:\\users\\vidis\\anaconda3\\lib\\site-packages (from requests>=2.24.0->pmlb) (2021.10.8)\n",
      "Requirement already satisfied: idna<4,>=2.5 in c:\\users\\vidis\\anaconda3\\lib\\site-packages (from requests>=2.24.0->pmlb) (3.2)\n",
      "Requirement already satisfied: charset-normalizer~=2.0.0 in c:\\users\\vidis\\anaconda3\\lib\\site-packages (from requests>=2.24.0->pmlb) (2.0.4)\n",
      "Installing collected packages: pmlb\n",
      "Successfully installed pmlb-1.0.1.post3\n"
     ]
    }
   ],
   "source": [
    "# install library for automated machine learning\n",
    "!pip install flaml\n",
    "\n",
    "# install Penn Machine Learning Benchmarks library\n",
    "! pip install pmlb"
   ]
  },
  {
   "cell_type": "markdown",
   "id": "15fef5e1",
   "metadata": {},
   "source": [
    "## Import Data"
   ]
  },
  {
   "cell_type": "code",
   "execution_count": 2,
   "id": "2e1fd8b5",
   "metadata": {},
   "outputs": [],
   "source": [
    "from pmlb import fetch_data\n",
    "\n",
    "# Returns a pandas DataFrame\n",
    "df = fetch_data('adult')"
   ]
  },
  {
   "cell_type": "code",
   "execution_count": 3,
   "id": "5b4c56a5",
   "metadata": {},
   "outputs": [
    {
     "data": {
      "text/html": [
       "<div>\n",
       "<style scoped>\n",
       "    .dataframe tbody tr th:only-of-type {\n",
       "        vertical-align: middle;\n",
       "    }\n",
       "\n",
       "    .dataframe tbody tr th {\n",
       "        vertical-align: top;\n",
       "    }\n",
       "\n",
       "    .dataframe thead th {\n",
       "        text-align: right;\n",
       "    }\n",
       "</style>\n",
       "<table border=\"1\" class=\"dataframe\">\n",
       "  <thead>\n",
       "    <tr style=\"text-align: right;\">\n",
       "      <th></th>\n",
       "      <th>age</th>\n",
       "      <th>workclass</th>\n",
       "      <th>fnlwgt</th>\n",
       "      <th>education</th>\n",
       "      <th>education-num</th>\n",
       "      <th>marital-status</th>\n",
       "      <th>occupation</th>\n",
       "      <th>relationship</th>\n",
       "      <th>race</th>\n",
       "      <th>sex</th>\n",
       "      <th>capital-gain</th>\n",
       "      <th>capital-loss</th>\n",
       "      <th>hours-per-week</th>\n",
       "      <th>native-country</th>\n",
       "      <th>target</th>\n",
       "    </tr>\n",
       "  </thead>\n",
       "  <tbody>\n",
       "    <tr>\n",
       "      <th>0</th>\n",
       "      <td>39.0</td>\n",
       "      <td>7</td>\n",
       "      <td>77516.0</td>\n",
       "      <td>9</td>\n",
       "      <td>13.0</td>\n",
       "      <td>4</td>\n",
       "      <td>1</td>\n",
       "      <td>1</td>\n",
       "      <td>4</td>\n",
       "      <td>1</td>\n",
       "      <td>2174.0</td>\n",
       "      <td>0.0</td>\n",
       "      <td>40.0</td>\n",
       "      <td>39</td>\n",
       "      <td>1</td>\n",
       "    </tr>\n",
       "    <tr>\n",
       "      <th>1</th>\n",
       "      <td>50.0</td>\n",
       "      <td>6</td>\n",
       "      <td>83311.0</td>\n",
       "      <td>9</td>\n",
       "      <td>13.0</td>\n",
       "      <td>2</td>\n",
       "      <td>4</td>\n",
       "      <td>0</td>\n",
       "      <td>4</td>\n",
       "      <td>1</td>\n",
       "      <td>0.0</td>\n",
       "      <td>0.0</td>\n",
       "      <td>13.0</td>\n",
       "      <td>39</td>\n",
       "      <td>1</td>\n",
       "    </tr>\n",
       "    <tr>\n",
       "      <th>2</th>\n",
       "      <td>38.0</td>\n",
       "      <td>4</td>\n",
       "      <td>215646.0</td>\n",
       "      <td>11</td>\n",
       "      <td>9.0</td>\n",
       "      <td>0</td>\n",
       "      <td>6</td>\n",
       "      <td>1</td>\n",
       "      <td>4</td>\n",
       "      <td>1</td>\n",
       "      <td>0.0</td>\n",
       "      <td>0.0</td>\n",
       "      <td>40.0</td>\n",
       "      <td>39</td>\n",
       "      <td>1</td>\n",
       "    </tr>\n",
       "    <tr>\n",
       "      <th>3</th>\n",
       "      <td>53.0</td>\n",
       "      <td>4</td>\n",
       "      <td>234721.0</td>\n",
       "      <td>1</td>\n",
       "      <td>7.0</td>\n",
       "      <td>2</td>\n",
       "      <td>6</td>\n",
       "      <td>0</td>\n",
       "      <td>2</td>\n",
       "      <td>1</td>\n",
       "      <td>0.0</td>\n",
       "      <td>0.0</td>\n",
       "      <td>40.0</td>\n",
       "      <td>39</td>\n",
       "      <td>1</td>\n",
       "    </tr>\n",
       "    <tr>\n",
       "      <th>4</th>\n",
       "      <td>28.0</td>\n",
       "      <td>4</td>\n",
       "      <td>338409.0</td>\n",
       "      <td>9</td>\n",
       "      <td>13.0</td>\n",
       "      <td>2</td>\n",
       "      <td>10</td>\n",
       "      <td>5</td>\n",
       "      <td>2</td>\n",
       "      <td>0</td>\n",
       "      <td>0.0</td>\n",
       "      <td>0.0</td>\n",
       "      <td>40.0</td>\n",
       "      <td>5</td>\n",
       "      <td>1</td>\n",
       "    </tr>\n",
       "  </tbody>\n",
       "</table>\n",
       "</div>"
      ],
      "text/plain": [
       "    age  workclass    fnlwgt  education  education-num  marital-status  \\\n",
       "0  39.0          7   77516.0          9           13.0               4   \n",
       "1  50.0          6   83311.0          9           13.0               2   \n",
       "2  38.0          4  215646.0         11            9.0               0   \n",
       "3  53.0          4  234721.0          1            7.0               2   \n",
       "4  28.0          4  338409.0          9           13.0               2   \n",
       "\n",
       "   occupation  relationship  race  sex  capital-gain  capital-loss  \\\n",
       "0           1             1     4    1        2174.0           0.0   \n",
       "1           4             0     4    1           0.0           0.0   \n",
       "2           6             1     4    1           0.0           0.0   \n",
       "3           6             0     2    1           0.0           0.0   \n",
       "4          10             5     2    0           0.0           0.0   \n",
       "\n",
       "   hours-per-week  native-country  target  \n",
       "0            40.0              39       1  \n",
       "1            13.0              39       1  \n",
       "2            40.0              39       1  \n",
       "3            40.0              39       1  \n",
       "4            40.0               5       1  "
      ]
     },
     "execution_count": 3,
     "metadata": {},
     "output_type": "execute_result"
    }
   ],
   "source": [
    "df.head()"
   ]
  },
  {
   "cell_type": "code",
   "execution_count": 11,
   "id": "d24e266e",
   "metadata": {},
   "outputs": [
    {
     "data": {
      "text/plain": [
       "(48842, 15)"
      ]
     },
     "execution_count": 11,
     "metadata": {},
     "output_type": "execute_result"
    }
   ],
   "source": [
    "df.shape"
   ]
  },
  {
   "cell_type": "code",
   "execution_count": 12,
   "id": "6c91d6a4",
   "metadata": {},
   "outputs": [
    {
     "data": {
      "text/plain": [
       "Index(['age', 'workclass', 'fnlwgt', 'education', 'education-num',\n",
       "       'marital-status', 'occupation', 'relationship', 'race', 'sex',\n",
       "       'capital-gain', 'capital-loss', 'hours-per-week', 'native-country',\n",
       "       'target'],\n",
       "      dtype='object')"
      ]
     },
     "execution_count": 12,
     "metadata": {},
     "output_type": "execute_result"
    }
   ],
   "source": [
    "df.columns"
   ]
  },
  {
   "cell_type": "code",
   "execution_count": 13,
   "id": "d9c14c35",
   "metadata": {},
   "outputs": [],
   "source": [
    "X = df[['age', 'workclass', 'fnlwgt', 'education', 'education-num',\n",
    "       'marital-status', 'occupation', 'relationship', 'race', 'sex',\n",
    "       'capital-gain', 'capital-loss', 'hours-per-week', 'native-country']]"
   ]
  },
  {
   "cell_type": "markdown",
   "id": "52e865b4",
   "metadata": {},
   "source": [
    "## Test Train Split"
   ]
  },
  {
   "cell_type": "code",
   "execution_count": 14,
   "id": "f7d0171f",
   "metadata": {},
   "outputs": [],
   "source": [
    "from sklearn.model_selection import train_test_split\n",
    "\n",
    "# split data into train and test sets\n",
    "xtrain, xtest, ytrain, ytest = train_test_split(X, \n",
    "                                                df['target'], \n",
    "                                                test_size= 0.3, \n",
    "                                                random_state=21)"
   ]
  },
  {
   "cell_type": "markdown",
   "id": "837facd6",
   "metadata": {},
   "source": [
    "## Training data"
   ]
  },
  {
   "cell_type": "code",
   "execution_count": 15,
   "id": "03772bc7",
   "metadata": {},
   "outputs": [
    {
     "name": "stderr",
     "output_type": "stream",
     "text": [
      "[flaml.automl: 10-17 10:47:27] {2600} INFO - task = classification\n",
      "[flaml.automl: 10-17 10:47:27] {2602} INFO - Data split method: stratified\n",
      "[flaml.automl: 10-17 10:47:27] {2605} INFO - Evaluation method: holdout\n",
      "[flaml.automl: 10-17 10:47:27] {2727} INFO - Minimizing error metric: 1-roc_auc\n",
      "[flaml.automl: 10-17 10:47:27] {2777} WARNING - No search budget is provided via time_budget or max_iter. Training only one model per estimator. To tune hyperparameters for each estimator, please provide budget either via time_budget or max_iter.\n",
      "[flaml.automl: 10-17 10:47:27] {2869} INFO - List of ML learners in AutoML Run: ['extra_tree', 'lgbm', 'rf', 'xgboost', 'xgb_limitdepth', 'lrl1']\n",
      "[flaml.automl: 10-17 10:47:27] {3164} INFO - iteration 0, current learner extra_tree\n",
      "[flaml.automl: 10-17 10:47:30] {3297} INFO - Estimated sufficient time budget=28369s. Estimated necessary time budget=344s.\n",
      "[flaml.automl: 10-17 10:47:30] {3344} INFO -  at 3.0s,\testimator extra_tree's best error=0.0820,\tbest estimator extra_tree's best error=0.0820\n",
      "[flaml.automl: 10-17 10:47:30] {3164} INFO - iteration 1, current learner lgbm\n",
      "[flaml.automl: 10-17 10:47:31] {3344} INFO -  at 3.7s,\testimator lgbm's best error=0.0687,\tbest estimator lgbm's best error=0.0687\n",
      "[flaml.automl: 10-17 10:47:31] {3164} INFO - iteration 2, current learner rf\n",
      "[flaml.automl: 10-17 10:47:36] {3344} INFO -  at 8.7s,\testimator rf's best error=0.0878,\tbest estimator lgbm's best error=0.0687\n",
      "[flaml.automl: 10-17 10:47:36] {3164} INFO - iteration 3, current learner xgboost\n",
      "[flaml.automl: 10-17 10:47:48] {3344} INFO -  at 20.5s,\testimator xgboost's best error=0.0808,\tbest estimator lgbm's best error=0.0687\n",
      "[flaml.automl: 10-17 10:47:48] {3164} INFO - iteration 4, current learner xgb_limitdepth\n",
      "[flaml.automl: 10-17 10:48:07] {3344} INFO -  at 39.4s,\testimator xgb_limitdepth's best error=0.0740,\tbest estimator lgbm's best error=0.0687\n",
      "[flaml.automl: 10-17 10:48:07] {3164} INFO - iteration 5, current learner lrl1\n",
      "C:\\Users\\vidis\\anaconda3\\lib\\site-packages\\sklearn\\linear_model\\_sag.py:352: ConvergenceWarning: The max_iter was reached which means the coef_ did not converge\n",
      "  warnings.warn(\n",
      "[flaml.automl: 10-17 10:48:10] {3344} INFO -  at 42.7s,\testimator lrl1's best error=0.3832,\tbest estimator lgbm's best error=0.0687\n",
      "[flaml.automl: 10-17 10:48:11] {3608} INFO - retrain lgbm for 0.8s\n",
      "[flaml.automl: 10-17 10:48:11] {3615} INFO - retrained model: LGBMClassifier(colsample_bytree=0.5261441571042451,\n",
      "               learning_rate=0.04824748268727149, max_bin=511,\n",
      "               min_child_samples=8, n_estimators=141, num_leaves=139,\n",
      "               reg_alpha=0.0028969208338993344, reg_lambda=0.024463247502165594,\n",
      "               verbose=-1)\n",
      "[flaml.automl: 10-17 10:48:11] {2900} INFO - fit succeeded\n",
      "[flaml.automl: 10-17 10:48:11] {2901} INFO - Time taken to find the best model: 3.662714958190918\n"
     ]
    }
   ],
   "source": [
    "from flaml import AutoML\n",
    "\n",
    "automl = AutoML()\n",
    "automl.fit(xtrain, ytrain, task=\"classification\") # use task = \"regression\" when target variable is continuous\n"
   ]
  },
  {
   "cell_type": "markdown",
   "id": "30235634",
   "metadata": {},
   "source": [
    "## Best model"
   ]
  },
  {
   "cell_type": "code",
   "execution_count": 16,
   "id": "f5d643b2",
   "metadata": {},
   "outputs": [
    {
     "data": {
      "text/plain": [
       "'lgbm'"
      ]
     },
     "execution_count": 16,
     "metadata": {},
     "output_type": "execute_result"
    }
   ],
   "source": [
    "# get best model \n",
    "automl.best_estimator\n"
   ]
  },
  {
   "cell_type": "code",
   "execution_count": 17,
   "id": "d73b8680",
   "metadata": {},
   "outputs": [
    {
     "name": "stdout",
     "output_type": "stream",
     "text": [
      "{'n_estimators': 141, 'num_leaves': 139, 'min_child_samples': 8, 'learning_rate': 0.04824748268727149, 'log_max_bin': 9, 'colsample_bytree': 0.5261441571042451, 'reg_alpha': 0.0028969208338993344, 'reg_lambda': 0.024463247502165594}\n"
     ]
    }
   ],
   "source": [
    "print(automl.best_config)"
   ]
  },
  {
   "cell_type": "markdown",
   "id": "d6841141",
   "metadata": {},
   "source": [
    "## Making Predictions"
   ]
  },
  {
   "cell_type": "code",
   "execution_count": 18,
   "id": "15bf9d71",
   "metadata": {},
   "outputs": [
    {
     "name": "stdout",
     "output_type": "stream",
     "text": [
      "              precision    recall  f1-score   support\n",
      "\n",
      "           0       0.78      0.66      0.71      3530\n",
      "           1       0.90      0.94      0.92     11123\n",
      "\n",
      "    accuracy                           0.87     14653\n",
      "   macro avg       0.84      0.80      0.82     14653\n",
      "weighted avg       0.87      0.87      0.87     14653\n",
      "\n"
     ]
    }
   ],
   "source": [
    "# get predictions\n",
    "preds = automl.predict(xtest)\n",
    "\n",
    "from sklearn.metrics import classification_report\n",
    "\n",
    "# print evaluation scores\n",
    "print(classification_report(ytest, preds))"
   ]
  }
 ],
 "metadata": {
  "kernelspec": {
   "display_name": "Python 3 (ipykernel)",
   "language": "python",
   "name": "python3"
  },
  "language_info": {
   "codemirror_mode": {
    "name": "ipython",
    "version": 3
   },
   "file_extension": ".py",
   "mimetype": "text/x-python",
   "name": "python",
   "nbconvert_exporter": "python",
   "pygments_lexer": "ipython3",
   "version": "3.9.7"
  }
 },
 "nbformat": 4,
 "nbformat_minor": 5
}
